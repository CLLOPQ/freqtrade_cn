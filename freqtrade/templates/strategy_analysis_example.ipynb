{
 "cells": [
  {
   "cell_type": "markdown",
   "metadata": {},
   "source": [
    "# 策略分析示例\n",
    "\n",
    "调试策略可能很耗时。Freqtrade 提供了辅助函数来可视化原始数据。\n",
    "以下假设您使用 SampleStrategy，来自币安的 5m 时间周期数据，并且已将它们下载到默认位置的数据目录中。\n",
    "请查阅 [文档](https://www.freqtrade.io/en/stable/data-download/) 获取更多详情。"
   ]
  },
  {
   "cell_type": "markdown",
   "metadata": {},
   "source": [
    "## 设置\n",
    "\n",
    "### 将工作目录更改为仓库根目录"
   ]
  },
  {
   "cell_type": "code",
   "execution_count": null,
   "metadata": {},
   "outputs": [],
   "source": [
    "import os\n",
    "from pathlib import Path\n",
    "\n",
    "\n",
    "# 更改目录\n",
    "# 修改此单元格以确保输出显示正确的路径。\n",
    "# 定义所有路径相对于单元格输出中显示的项目根目录\n",
    "project_root = \"somedir/freqtrade\"\n",
    "i = 0\n",
    "try:\n",
    "    os.chdir(project_root)\n",
    "    if not Path(\"LICENSE\").is_file():\n",
    "        i = 0\n",
    "        while i < 4 and (not Path(\"LICENSE\").is_file()):\n",
    "            os.chdir(Path(Path.cwd(), \"../\"))\n",
    "            i += 1\n",
    "        project_root = Path.cwd()\n",
    "except FileNotFoundError:\n",
    "    print(\"请定义项目根目录相对于当前目录的路径\")\n",
    "print(Path.cwd())"
   ]
  },
  {
   "cell_type": "markdown",
   "metadata": {},
   "source": [
    "### 配置 Freqtrade 环境"
   ]
  },
  {
   "cell_type": "code",
   "execution_count": null,
   "metadata": {},
   "outputs": [],
   "source": [
    "from freqtrade.configuration import Configuration\n",
    "\n",
    "\n",
    "# 根据您的需求进行自定义。\n",
    "\n",
    "# 初始化空配置对象\n",
    "config = Configuration.from_files([])\n",
    "# 可选（推荐），使用现有配置文件\n",
    "# config = Configuration.from_files([\"user_data/config.json\"])\n",
    "\n",
    "# 定义一些常量\n",
    "config[\"timeframe\"] = \"5m\"\n",
    "# 策略类的名称\n",
    "config[\"strategy\"] = \"SampleStrategy\"\n",
    "# 数据位置\n",
    "data_location = config[\"datadir\"]\n",
    "# 要分析的交易对 - 此处只使用一个交易对\n",
    "pair = \"BTC/USDT\""
   ]
  },
  {
   "cell_type": "code",
   "execution_count": null,
   "metadata": {},
   "outputs": [],
   "source": [
    "# 使用上述设置加载数据\n",
    "from freqtrade.data.history import load_pair_history\n",
    "from freqtrade.enums import CandleType\n",
    "\n",
    "\n",
    "candles = load_pair_history(\n",
    "    datadir=data_location,\n",
    "    timeframe=config[\"timeframe\"],\n",
    "    pair=pair,\n",
    "    data_format=\"json\",  # 确保更新此处以匹配您的数据格式\n",
    "    candle_type=CandleType.SPOT,\n",
    ")\n",
    "\n",
    "# 确认成功\n",
    "print(f\"已从 {data_location} 为 {pair} 加载 {len(candles)} 行数据\")\n",
    "candles.head()"
   ]
  },
  {
   "cell_type": "markdown",
   "metadata": {},
   "source": [
    "## 加载并运行策略\n",
    "* 每次更改策略文件时重新运行"
   ]
  },
  {
   "cell_type": "code",
   "execution_count": null,
   "metadata": {},
   "outputs": [],
   "source": [
    "# 使用上述设置加载策略\n",
    "from freqtrade.data.dataprovider import DataProvider\n",
    "from freqtrade.resolvers import StrategyResolver\n",
    "\n",
    "\n",
    "strategy = StrategyResolver.load_strategy(config)\n",
    "strategy.dp = DataProvider(config, None, None)\n",
    "strategy.ft_bot_start()\n",
    "\n",
    "# 使用策略生成买入/卖出信号\n",
    "df = strategy.analyze_ticker(candles, {\"pair\": pair})\n",
    "df.tail()"
   ]
  },
  {
   "cell_type": "markdown",
   "metadata": {},
   "source": [
    "### 显示交易详情\n",
    "\n",
    "* 请注意，使用 `data.head()` 也可以工作，但大多数指标在数据帧顶部都有一些“启动”数据。\n",
    "* 可能出现的一些问题\n",
    "    * 数据帧末尾存在 NaN 值的列\n",
    "    * `crossed*()` 函数中使用的列单位完全不同\n",
    "* 与完整回测的比较\n",
    "    * `analyze_ticker()` 为一个交易对输出 200 个买入信号并不一定意味着在回测期间将进行 200 笔交易。\n",
    "    * 假设您只使用一个条件，例如 `df['rsi'] < 30` 作为买入条件，这将为每个交易对按顺序生成多个“买入”信号（直到 rsi 返回 > 29）。机器人只会在这些信号中的第一个信号（并且只有在交易槽位（“max_open_trades”）仍然可用时）或在某个“槽位”可用时在中间信号之一买入。\n"
   ]
  },
  {
   "cell_type": "code",
   "execution_count": null,
   "metadata": {},
   "outputs": [],
   "source": [
    "# 报告结果\n",
    "print(f\"生成了 {df['enter_long'].sum()} 个入场信号\")\n",
    "data = df.set_index(\"date\", drop=False)\n",
    "data.tail()"
   ]
  },
  {
   "cell_type": "markdown",
   "metadata": {},
   "source": [
    "## 将现有对象加载到 Jupyter notebook 中\n",
    "\n",
    "以下单元格假设您已使用 CLI 生成了数据。\n",
    "它们将允许您更深入地钻取结果，并执行否则会因信息过载而难以消化的分析。"
   ]
  },
  {
   "cell_type": "markdown",
   "metadata": {},
   "source": [
    "### 将回测结果加载到 pandas 数据帧中\n",
    "\n",
    "分析交易数据帧（下文也用于绘图）"
   ]
  },
  {
   "cell_type": "code",
   "execution_count": null,
   "metadata": {},
   "outputs": [],
   "source": [
    "from freqtrade.data.btanalysis import load_backtest_data, load_backtest_stats\n",
    "\n",
    "\n",
    "# 如果 backtest_dir 指向一个目录，它将自动加载最新的回测文件。\n",
    "backtest_dir = config[\"user_data_dir\"] / \"backtest_results\"\n",
    "# backtest_dir 也可以指向一个特定文件\n",
    "# backtest_dir = (\n",
    "#   config[\"user_data_dir\"] / \"backtest_results/backtest-result-2020-07-01_20-04-22.json\"\n",
    "# )"
   ]
  },
  {
   "cell_type": "code",
   "execution_count": null,
   "metadata": {},
   "outputs": [],
   "source": [
    "# 您可以使用以下命令获取完整的回测统计数据。\n",
    "# 这包含用于生成回测结果的所有信息。\n",
    "stats = load_backtest_stats(backtest_dir)\n",
    "\n",
    "strategy = \"SampleStrategy\"\n",
    "# 所有统计数据都按策略提供，因此如果在回测期间使用了 `--strategy-list`，\n",
    "# 这里也会反映出来。\n",
    "# 示例用法：\n",
    "print(stats[\"strategy\"][strategy][\"results_per_pair\"])\n",
    "# 获取此回测使用的交易对列表\n",
    "print(stats[\"strategy\"][strategy][\"pairlist\"])\n",
    "# 获取市场变化（从回测期开始到结束所有交易对的平均变化）\n",
    "print(stats[\"strategy\"][strategy][\"market_change\"])\n",
    "# 最大回撤\n",
    "print(stats[\"strategy\"][strategy][\"max_drawdown_abs\"])\n",
    "# 最大回撤开始和结束时间\n",
    "print(stats[\"strategy\"][strategy][\"drawdown_start\"])\n",
    "print(stats[\"strategy\"][strategy][\"drawdown_end\"])\n",
    "\n",
    "\n",
    "# 获取策略比较（仅当比较了多个策略时才相关）\n",
    "print(stats[\"strategy_comparison\"])"
   ]
  },
  {
   "cell_type": "code",
   "execution_count": null,
   "metadata": {},
   "outputs": [],
   "source": [
    "# 将回测交易加载为数据帧\n",
    "trades = load_backtest_data(backtest_dir)\n",
    "\n",
    "# 按交易对显示值计数\n",
    "trades.groupby(\"pair\")[\"exit_reason\"].value_counts()"
   ]
  },
  {
   "cell_type": "markdown",
   "metadata": {},
   "source": [
    "## 绘制每日利润 / 权益曲线"
   ]
  },
  {
   "cell_type": "code",
   "execution_count": null,
   "metadata": {},
   "outputs": [],
   "source": [
    "# 绘制权益曲线（从第 1 天的 0 开始，并为每个回测日期添加每日利润）\n",
    "\n",
    "import pandas as pd\n",
    "import plotly.express as px\n",
    "\n",
    "from freqtrade.configuration import Configuration\n",
    "from freqtrade.data.btanalysis import load_backtest_stats\n",
    "\n",
    "\n",
    "# strategy = 'SampleStrategy'\n",
    "# config = Configuration.from_files([\"user_data/config.json\"])\n",
    "# backtest_dir = config[\"user_data_dir\"] / \"backtest_results\"\n",
    "\n",
    "stats = load_backtest_stats(backtest_dir)\n",
    "strategy_stats = stats[\"strategy\"][strategy]\n",
    "\n",
    "df = pd.DataFrame(columns=[\"dates\", \"equity\"], data=strategy_stats[\"daily_profit\"])\n",
    "df[\"equity_daily\"] = df[\"equity\"].cumsum()\n",
    "\n",
    "fig = px.line(df, x=\"dates\", y=\"equity_daily\")\n",
    "fig.show()"
   ]
  },
  {
   "cell_type": "markdown",
   "metadata": {},
   "source": [
    "### 将实盘交易结果加载到 pandas 数据帧中\n",
    "\n",
    "如果您已经进行了一些交易并希望分析您的表现"
   ]
  },
  {
   "cell_type": "code",
   "execution_count": null,
   "metadata": {},
   "outputs": [],
   "source": [
    "from freqtrade.data.btanalysis import load_trades_from_db\n",
    "\n",
    "\n",
    "# 从数据库中获取交易\n",
    "trades = load_trades_from_db(\"sqlite:///tradesv3.sqlite\")\n",
    "\n",
    "# 显示结果\n",
    "trades.groupby(\"pair\")[\"exit_reason\"].value_counts()"
   ]
  },
  {
   "cell_type": "markdown",
   "metadata": {},
   "source": [
    "## 分析已加载交易的交易并行性\n",
    "这有助于在回测与极高的 `max_open_trades` 设置结合使用时，找到最佳的 `max_open_trades` 参数。\n",
    "\n",
    "`analyze_trade_parallelism()` 返回一个包含“open_trades”列的时间序列数据帧，指定每个蜡烛图的未平仓交易数量。"
   ]
  },
  {
   "cell_type": "code",
   "execution_count": null,
   "metadata": {},
   "outputs": [],
   "source": [
    "from freqtrade.data.btanalysis import analyze_trade_parallelism\n",
    "\n",
    "\n",
    "# 分析上述内容\n",
    "parallel_trades = analyze_trade_parallelism(trades, \"5m\")\n",
    "\n",
    "parallel_trades.plot()"
   ]
  },
  {
   "cell_type": "markdown",
   "metadata": {},
   "source": [
    "## 绘制结果\n",
    "\n",
    "Freqtrade 提供了基于 plotly 的交互式绘图功能。"
   ]
  },
  {
   "cell_type": "code",
   "execution_count": null,
   "metadata": {},
   "outputs": [],
   "source": [
    "from freqtrade.plot.plotting import generate_candlestick_graph\n",
    "\n",
    "\n",
    "# 限制图表周期以保持 plotly 快速和响应\n",
    "\n",
    "# 将交易过滤到单个交易对\n",
    "trades_red = trades.loc[trades[\"pair\"] == pair]\n",
    "\n",
    "data_red = data[\"2019-06-01\":\"2019-06-10\"]\n",
    "# 生成 K 线图\n",
    "graph = generate_candlestick_graph(\n",
    "    pair=pair,\n",
    "    data=data_red,\n",
    "    trades=trades_red,\n",
    "    indicators1=[\"sma20\", \"ema50\", \"ema55\"],\n",
    "    indicators2=[\"rsi\", \"macd\", \"macdsignal\", \"macdhist\"],\n",
    ")"
   ]
  },
  {
   "cell_type": "code",
   "execution_count": null,
   "metadata": {},
   "outputs": [],
   "source": [
    "# 在行内显示图表\n",
    "# graph.show()\n",
    "\n",
    "# 在单独的窗口中渲染图表\n",
    "graph.show(renderer=\"browser\")"
   ]
  },
  {
   "cell_type": "markdown",
   "metadata": {},
   "source": [
    "## 将每笔交易的平均利润绘制为分布图"
   ]
  },
  {
   "cell_type": "code",
   "execution_count": null,
   "metadata": {},
   "outputs": [],
   "source": [
    "import plotly.figure_factory as ff\n",
    "\n",
    "\n",
    "hist_data = [trades.profit_ratio]\n",
    "group_labels = [\"profit_ratio\"]  # 数据集的名称\n",
    "\n",
    "fig = ff.create_distplot(hist_data, group_labels, bin_size=0.01)\n",
    "fig.show()"
   ]
  },
  {
   "cell_type": "markdown",
   "metadata": {},
   "source": [
    "如果您想分享如何最好地分析数据的想法，请随时提交 issue 或 Pull Request 以改进此文档。"
   ]
  }
 ],
 "metadata": {
  "file_extension": ".py",
  "kernelspec": {
   "display_name": "Python 3.9.7 64-bit",
   "language": "python",
   "name": "python3"
  },
  "language_info": {
   "codemirror_mode": {
    "name": "ipython",
    "version": 3
   },
   "file_extension": ".py",
   "mimetype": "text/x-python",
   "name": "python",
   "nbconvert_exporter": "python",
   "pygments_lexer": "ipython3",
   "version": "3.11.4"
  },
  "mimetype": "text/x-python",
  "name": "python",
  "npconvert_exporter": "python",
  "pygments_lexer": "ipython3",
  "toc": {
   "base_numbering": 1,
   "nav_menu": {},
   "number_sections": true,
   "sideBar": true,
   "skip_h1_title": false,
   "title_cell": "Table of Contents",
   "title_sidebar": "Contents",
   "toc_cell": false,
   "toc_position": {},
   "toc_section_display": true,
   "toc_window_display": false
  },
  "varInspector": {
   "cols": {
    "lenName": 16,
    "lenType": 16,
    "lenVar": 40
   },
   "kernels_config": {
    "python": {
     "delete_cmd_postfix": "",
     "delete_cmd_prefix": "del ",
     "library": "var_list.py",
     "varRefreshCmd": "print(var_dic_list())"
    },
    "r": {
     "delete_cmd_postfix": ") ",
     "delete_cmd_prefix": "rm(",
     "library": "var_list.r",
     "varRefreshCmd": "cat(var_dic_list()) "
    }
   },
   "types_to_exclude": [
    "module",
    "function",
    "builtin_function_or_method",
    "instance",
    "_Feature"
   ],
   "window_display": false
  },
  "version": 3,
  "vscode": {
   "interpreter": {
    "hash": "675f32a300d6d26767470181ad0b11dd4676bcce7ed1dd2ffe2fbc370c95fc7c"
   }
  }
 },
 "nbformat": 4,
 "nbformat_minor": 4
}
